{
 "cells": [
  {
   "cell_type": "code",
   "execution_count": 1,
   "id": "0df55475-5430-4b01-b106-87ae56d1d956",
   "metadata": {},
   "outputs": [],
   "source": [
    "import pandas as pd\n",
    "import numpy as np\n",
    "import matplotlib.pyplot as plt\n",
    "import seaborn as sns\n",
    "\n",
    "from sklearn.preprocessing import StandardScaler\n",
    "from sklearn.model_selection import KFold, cross_val_score, train_test_split\n",
    "from sklearn.metrics import mean_absolute_error\n",
    "\n",
    "from keras.models import Sequential\n",
    "from keras.layers import Dense\n",
    "from keras_tuner import RandomSearch\n",
    "from keras_tuner import Objective\n",
    "\n",
    "from tensorflow.keras.optimizers import Adam\n",
    "from tensorflow.keras.losses import mean_absolute_error, MAE\n",
    "from tensorflow.keras.regularizers import L2"
   ]
  },
  {
   "cell_type": "markdown",
   "id": "afff2d55-25c7-4e86-85f4-5c3e8b473464",
   "metadata": {},
   "source": [
    "# Data Loading"
   ]
  },
  {
   "cell_type": "code",
   "execution_count": 2,
   "id": "5a1285b8-7715-42ee-80e1-fbf2c6491098",
   "metadata": {},
   "outputs": [],
   "source": [
    "train = pd.read_csv('train.csv', index_col='id')\n",
    "test = pd.read_csv('test.csv', index_col='id')\n",
    "ss = pd.read_csv('sample_submission.csv')"
   ]
  },
  {
   "cell_type": "markdown",
   "id": "4595d424-8a80-4bee-b7cd-a5b5e3cbfc6e",
   "metadata": {},
   "source": [
    "# EDA"
   ]
  },
  {
   "cell_type": "markdown",
   "id": "1f700f28-64cb-4b0c-b715-071b6fb25d84",
   "metadata": {},
   "source": [
    "# Combine Train and Test Data"
   ]
  },
  {
   "cell_type": "code",
   "execution_count": 3,
   "id": "c0bed249-da0a-4fe5-8a75-bdec0b5380de",
   "metadata": {},
   "outputs": [],
   "source": [
    "train1 = train.drop('yield', axis=1).copy()"
   ]
  },
  {
   "cell_type": "code",
   "execution_count": 4,
   "id": "4b21655e-5962-43fa-b168-1a8d3dccf9dd",
   "metadata": {},
   "outputs": [],
   "source": [
    "train1 = pd.concat([train1, test])"
   ]
  },
  {
   "cell_type": "markdown",
   "id": "c2b70cd1-dab3-4a12-b372-bcf62f0b4d11",
   "metadata": {},
   "source": [
    "# Feature Engineering"
   ]
  },
  {
   "cell_type": "code",
   "execution_count": 5,
   "id": "78409368-1e72-436b-9bec-c295f54dc128",
   "metadata": {},
   "outputs": [],
   "source": [
    "train2 = train1.copy()"
   ]
  },
  {
   "cell_type": "code",
   "execution_count": 6,
   "id": "c872e258-95ba-4b12-9adb-0f75e810dbc7",
   "metadata": {},
   "outputs": [],
   "source": [
    "# Based on the correlation matrix, these parameters are highly correlated and have the same correlation with the target so it is safe to remove them\n",
    "train2 = train2.drop(['MinOfUpperTRange', 'AverageOfUpperTRange', 'MaxOfLowerTRange', 'MinOfLowerTRange', 'AverageOfLowerTRange', 'RainingDays'], axis=1)\n",
    "#, 'fruitmass', 'seeds'"
   ]
  },
  {
   "cell_type": "markdown",
   "id": "55a248c1-2c5f-42b1-a091-25a00ab92c1b",
   "metadata": {},
   "source": [
    "# Feature Scaling"
   ]
  },
  {
   "cell_type": "code",
   "execution_count": 7,
   "id": "1dd1462c-ddba-4997-8da7-0841447c46d6",
   "metadata": {},
   "outputs": [],
   "source": [
    "train3 = train2.copy()"
   ]
  },
  {
   "cell_type": "code",
   "execution_count": 8,
   "id": "7045537d-f266-4938-9f31-200ec55348ed",
   "metadata": {},
   "outputs": [],
   "source": [
    "sc = StandardScaler()\n",
    "train3 = pd.DataFrame(sc.fit_transform(train3), columns=train3.columns)"
   ]
  },
  {
   "cell_type": "markdown",
   "id": "d2aa72a5-6d0c-4565-80cd-34ff21640440",
   "metadata": {},
   "source": [
    "# Target Transformation"
   ]
  },
  {
   "cell_type": "code",
   "execution_count": 9,
   "id": "d5182b09-d9ab-4112-b9f0-dbeb8b0d5f95",
   "metadata": {},
   "outputs": [],
   "source": [
    "y = train['yield']"
   ]
  },
  {
   "cell_type": "markdown",
   "id": "90e0036d-85cc-44a8-abd4-e90f60c41f34",
   "metadata": {},
   "source": [
    "# Split Train and Test data, transform"
   ]
  },
  {
   "cell_type": "code",
   "execution_count": 10,
   "id": "4876d945-e83b-4ee1-a5e6-49f530db84c8",
   "metadata": {},
   "outputs": [],
   "source": [
    "X = train3.loc[:train.index.max(), :].copy()\n",
    "test_transformed = train3.iloc[train.index.max()+1:, :]"
   ]
  },
  {
   "cell_type": "markdown",
   "id": "1f4160de-1489-49dc-801e-513e977c27e5",
   "metadata": {},
   "source": [
    "# Define MLP model"
   ]
  },
  {
   "cell_type": "code",
   "execution_count": 26,
   "id": "dd8b7bb7-0103-4df5-b9ed-1478a660c168",
   "metadata": {},
   "outputs": [
    {
     "name": "stdout",
     "output_type": "stream",
     "text": [
      "Epoch 1/20\n",
      "478/478 [==============================] - 2s 3ms/step - loss: 1153.8990 - mae: 1153.8990 - val_loss: 401.2155 - val_mae: 401.2155\n",
      "Epoch 2/20\n",
      "478/478 [==============================] - 1s 3ms/step - loss: 380.9959 - mae: 380.9959 - val_loss: 362.3401 - val_mae: 362.3401\n",
      "Epoch 3/20\n",
      "478/478 [==============================] - 1s 3ms/step - loss: 372.4590 - mae: 372.4590 - val_loss: 359.1871 - val_mae: 359.1871\n",
      "Epoch 4/20\n",
      "478/478 [==============================] - 1s 3ms/step - loss: 369.7707 - mae: 369.7707 - val_loss: 358.9659 - val_mae: 358.9659\n",
      "Epoch 5/20\n",
      "478/478 [==============================] - 1s 3ms/step - loss: 366.0899 - mae: 366.0899 - val_loss: 381.7462 - val_mae: 381.7462\n",
      "Epoch 6/20\n",
      "478/478 [==============================] - 1s 3ms/step - loss: 364.4026 - mae: 364.4026 - val_loss: 355.0370 - val_mae: 355.0370\n",
      "Epoch 7/20\n",
      "478/478 [==============================] - 1s 3ms/step - loss: 363.1610 - mae: 363.1610 - val_loss: 367.4992 - val_mae: 367.4992\n",
      "Epoch 8/20\n",
      "478/478 [==============================] - 1s 3ms/step - loss: 362.7257 - mae: 362.7257 - val_loss: 367.9503 - val_mae: 367.9503\n",
      "Epoch 9/20\n",
      "478/478 [==============================] - 1s 3ms/step - loss: 363.2651 - mae: 363.2651 - val_loss: 352.8975 - val_mae: 352.8975\n",
      "Epoch 10/20\n",
      "478/478 [==============================] - 1s 3ms/step - loss: 362.4998 - mae: 362.4998 - val_loss: 361.4713 - val_mae: 361.4713\n",
      "Epoch 11/20\n",
      "478/478 [==============================] - 1s 3ms/step - loss: 362.3522 - mae: 362.3522 - val_loss: 352.1028 - val_mae: 352.1028\n",
      "Epoch 12/20\n",
      "478/478 [==============================] - 1s 3ms/step - loss: 361.1598 - mae: 361.1598 - val_loss: 382.8687 - val_mae: 382.8687\n",
      "Epoch 13/20\n",
      "478/478 [==============================] - 1s 3ms/step - loss: 360.4544 - mae: 360.4544 - val_loss: 361.3557 - val_mae: 361.3557\n",
      "Epoch 14/20\n",
      "478/478 [==============================] - 1s 3ms/step - loss: 362.1937 - mae: 362.1937 - val_loss: 351.0047 - val_mae: 351.0047\n",
      "Epoch 15/20\n",
      "478/478 [==============================] - 1s 3ms/step - loss: 359.4672 - mae: 359.4672 - val_loss: 350.8591 - val_mae: 350.8591\n",
      "Epoch 16/20\n",
      "478/478 [==============================] - 1s 3ms/step - loss: 359.6270 - mae: 359.6270 - val_loss: 353.8707 - val_mae: 353.8707\n",
      "Epoch 17/20\n",
      "478/478 [==============================] - 1s 3ms/step - loss: 358.7874 - mae: 358.7874 - val_loss: 353.7242 - val_mae: 353.7242\n",
      "Epoch 18/20\n",
      "478/478 [==============================] - 1s 3ms/step - loss: 359.8127 - mae: 359.8127 - val_loss: 354.6338 - val_mae: 354.6338\n",
      "Epoch 19/20\n",
      "478/478 [==============================] - 1s 3ms/step - loss: 361.1556 - mae: 361.1556 - val_loss: 348.6544 - val_mae: 348.6544\n",
      "Epoch 20/20\n",
      "478/478 [==============================] - 1s 3ms/step - loss: 358.3059 - mae: 358.3059 - val_loss: 381.6704 - val_mae: 381.6704\n",
      "----------------------------------------------------------------------------------------------------\n",
      "Epoch 1/20\n",
      "478/478 [==============================] - 2s 3ms/step - loss: 1198.3666 - mae: 1198.3666 - val_loss: 387.5892 - val_mae: 387.5892\n",
      "Epoch 2/20\n",
      "478/478 [==============================] - 1s 3ms/step - loss: 380.5864 - mae: 380.5864 - val_loss: 373.9741 - val_mae: 373.9741\n",
      "Epoch 3/20\n",
      "478/478 [==============================] - 1s 3ms/step - loss: 369.7249 - mae: 369.7249 - val_loss: 378.9806 - val_mae: 378.9806\n",
      "Epoch 4/20\n",
      "478/478 [==============================] - 1s 3ms/step - loss: 368.7373 - mae: 368.7373 - val_loss: 371.0292 - val_mae: 371.0292\n",
      "Epoch 5/20\n",
      "478/478 [==============================] - 1s 3ms/step - loss: 365.6208 - mae: 365.6208 - val_loss: 376.0924 - val_mae: 376.0924\n",
      "Epoch 6/20\n",
      "478/478 [==============================] - 1s 3ms/step - loss: 364.9978 - mae: 364.9978 - val_loss: 365.0955 - val_mae: 365.0955\n",
      "Epoch 7/20\n",
      "478/478 [==============================] - 1s 3ms/step - loss: 362.8421 - mae: 362.8421 - val_loss: 360.7322 - val_mae: 360.7322\n",
      "Epoch 8/20\n",
      "478/478 [==============================] - 1s 3ms/step - loss: 361.3993 - mae: 361.3993 - val_loss: 367.9563 - val_mae: 367.9563\n",
      "Epoch 9/20\n",
      "478/478 [==============================] - 1s 3ms/step - loss: 364.4130 - mae: 364.4130 - val_loss: 360.9204 - val_mae: 360.9204\n",
      "Epoch 10/20\n",
      "478/478 [==============================] - 1s 3ms/step - loss: 362.4339 - mae: 362.4339 - val_loss: 359.2639 - val_mae: 359.2639\n",
      "Epoch 11/20\n",
      "478/478 [==============================] - 1s 3ms/step - loss: 360.1872 - mae: 360.1872 - val_loss: 368.1607 - val_mae: 368.1607\n",
      "Epoch 12/20\n",
      "478/478 [==============================] - 1s 3ms/step - loss: 358.5340 - mae: 358.5340 - val_loss: 372.3458 - val_mae: 372.3458\n",
      "Epoch 13/20\n",
      "478/478 [==============================] - 1s 3ms/step - loss: 360.3496 - mae: 360.3496 - val_loss: 361.9030 - val_mae: 361.9030\n",
      "Epoch 14/20\n",
      "478/478 [==============================] - 1s 3ms/step - loss: 358.8622 - mae: 358.8622 - val_loss: 361.5404 - val_mae: 361.5404\n",
      "Epoch 15/20\n",
      "478/478 [==============================] - 1s 3ms/step - loss: 359.1668 - mae: 359.1668 - val_loss: 363.7917 - val_mae: 363.7917\n",
      "Epoch 16/20\n",
      "478/478 [==============================] - 1s 3ms/step - loss: 358.3739 - mae: 358.3739 - val_loss: 362.8792 - val_mae: 362.8792\n",
      "Epoch 17/20\n",
      "478/478 [==============================] - 1s 3ms/step - loss: 357.4207 - mae: 357.4207 - val_loss: 357.9527 - val_mae: 357.9527\n",
      "Epoch 18/20\n",
      "478/478 [==============================] - 1s 3ms/step - loss: 359.8609 - mae: 359.8609 - val_loss: 365.8533 - val_mae: 365.8533\n",
      "Epoch 19/20\n",
      "478/478 [==============================] - 1s 3ms/step - loss: 356.8767 - mae: 356.8767 - val_loss: 358.7346 - val_mae: 358.7346\n",
      "Epoch 20/20\n",
      "478/478 [==============================] - 1s 3ms/step - loss: 355.9305 - mae: 355.9305 - val_loss: 369.6718 - val_mae: 369.6718\n",
      "----------------------------------------------------------------------------------------------------\n",
      "Epoch 1/20\n",
      "478/478 [==============================] - 3s 4ms/step - loss: 1194.2156 - mae: 1194.2156 - val_loss: 386.1567 - val_mae: 386.1567\n",
      "Epoch 2/20\n",
      "478/478 [==============================] - 2s 4ms/step - loss: 380.3190 - mae: 380.3190 - val_loss: 366.1362 - val_mae: 366.1362\n",
      "Epoch 3/20\n",
      "478/478 [==============================] - 2s 4ms/step - loss: 370.6452 - mae: 370.6452 - val_loss: 363.7882 - val_mae: 363.7882\n",
      "Epoch 4/20\n",
      "478/478 [==============================] - 2s 4ms/step - loss: 367.6947 - mae: 367.6947 - val_loss: 361.6516 - val_mae: 361.6516\n",
      "Epoch 5/20\n",
      "478/478 [==============================] - 2s 4ms/step - loss: 366.7594 - mae: 366.7594 - val_loss: 356.5226 - val_mae: 356.5226\n",
      "Epoch 6/20\n",
      "478/478 [==============================] - 2s 4ms/step - loss: 365.9091 - mae: 365.9091 - val_loss: 365.2820 - val_mae: 365.2820\n",
      "Epoch 7/20\n",
      "478/478 [==============================] - 2s 4ms/step - loss: 364.0917 - mae: 364.0917 - val_loss: 361.4870 - val_mae: 361.4870\n",
      "Epoch 8/20\n",
      "478/478 [==============================] - 2s 4ms/step - loss: 362.6904 - mae: 362.6904 - val_loss: 357.0927 - val_mae: 357.0927\n",
      "Epoch 9/20\n",
      "478/478 [==============================] - 2s 4ms/step - loss: 362.4951 - mae: 362.4951 - val_loss: 357.4023 - val_mae: 357.4023\n",
      "Epoch 10/20\n",
      "478/478 [==============================] - 2s 4ms/step - loss: 362.8197 - mae: 362.8197 - val_loss: 366.5505 - val_mae: 366.5505\n",
      "Epoch 11/20\n",
      "478/478 [==============================] - 2s 4ms/step - loss: 361.0732 - mae: 361.0732 - val_loss: 357.9014 - val_mae: 357.9014\n",
      "Epoch 12/20\n",
      "478/478 [==============================] - 2s 4ms/step - loss: 360.0896 - mae: 360.0896 - val_loss: 367.2296 - val_mae: 367.2296\n",
      "Epoch 13/20\n",
      "478/478 [==============================] - 2s 4ms/step - loss: 359.7949 - mae: 359.7949 - val_loss: 355.9929 - val_mae: 355.9929\n",
      "Epoch 14/20\n",
      "478/478 [==============================] - 2s 4ms/step - loss: 357.1100 - mae: 357.1100 - val_loss: 354.2925 - val_mae: 354.2925\n",
      "Epoch 15/20\n",
      "478/478 [==============================] - 2s 4ms/step - loss: 359.8798 - mae: 359.8798 - val_loss: 353.4787 - val_mae: 353.4787\n",
      "Epoch 16/20\n",
      "478/478 [==============================] - 2s 4ms/step - loss: 356.6526 - mae: 356.6526 - val_loss: 356.1604 - val_mae: 356.1604\n",
      "Epoch 17/20\n",
      "478/478 [==============================] - 2s 4ms/step - loss: 359.4307 - mae: 359.4307 - val_loss: 355.3342 - val_mae: 355.3342\n",
      "Epoch 18/20\n",
      "478/478 [==============================] - 2s 4ms/step - loss: 358.8317 - mae: 358.8317 - val_loss: 350.2259 - val_mae: 350.2259\n",
      "Epoch 19/20\n",
      "478/478 [==============================] - 2s 3ms/step - loss: 358.9688 - mae: 358.9688 - val_loss: 349.1877 - val_mae: 349.1877\n",
      "Epoch 20/20\n",
      "478/478 [==============================] - 2s 4ms/step - loss: 355.9949 - mae: 355.9949 - val_loss: 351.2427 - val_mae: 351.2427\n",
      "----------------------------------------------------------------------------------------------------\n",
      "Epoch 1/20\n",
      "478/478 [==============================] - 2s 4ms/step - loss: 1197.3265 - mae: 1197.3265 - val_loss: 394.6105 - val_mae: 394.6105\n",
      "Epoch 2/20\n",
      "478/478 [==============================] - 2s 3ms/step - loss: 378.4414 - mae: 378.4414 - val_loss: 379.2617 - val_mae: 379.2617\n",
      "Epoch 3/20\n",
      "478/478 [==============================] - 2s 3ms/step - loss: 370.4098 - mae: 370.4098 - val_loss: 364.8359 - val_mae: 364.8359\n",
      "Epoch 4/20\n",
      "478/478 [==============================] - 2s 3ms/step - loss: 371.9252 - mae: 371.9252 - val_loss: 361.5253 - val_mae: 361.5253\n",
      "Epoch 5/20\n",
      "478/478 [==============================] - 2s 3ms/step - loss: 364.3016 - mae: 364.3016 - val_loss: 368.8279 - val_mae: 368.8279\n",
      "Epoch 6/20\n",
      "478/478 [==============================] - 2s 3ms/step - loss: 365.6937 - mae: 365.6937 - val_loss: 355.9076 - val_mae: 355.9076\n",
      "Epoch 7/20\n",
      "478/478 [==============================] - 2s 3ms/step - loss: 361.5321 - mae: 361.5321 - val_loss: 361.8762 - val_mae: 361.8762\n",
      "Epoch 8/20\n",
      "478/478 [==============================] - 2s 3ms/step - loss: 362.6727 - mae: 362.6727 - val_loss: 376.5034 - val_mae: 376.5034\n",
      "Epoch 9/20\n",
      "478/478 [==============================] - 2s 3ms/step - loss: 363.7699 - mae: 363.7699 - val_loss: 354.6335 - val_mae: 354.6335\n",
      "Epoch 10/20\n",
      "478/478 [==============================] - 2s 3ms/step - loss: 361.7613 - mae: 361.7613 - val_loss: 364.3927 - val_mae: 364.3927\n",
      "Epoch 11/20\n",
      "478/478 [==============================] - 2s 3ms/step - loss: 362.0211 - mae: 362.0211 - val_loss: 361.5465 - val_mae: 361.5465\n",
      "Epoch 12/20\n",
      "478/478 [==============================] - 2s 3ms/step - loss: 360.9460 - mae: 360.9460 - val_loss: 359.0043 - val_mae: 359.0043\n",
      "Epoch 13/20\n",
      "478/478 [==============================] - 2s 3ms/step - loss: 361.4351 - mae: 361.4351 - val_loss: 354.9421 - val_mae: 354.9421\n",
      "Epoch 14/20\n",
      "478/478 [==============================] - 2s 4ms/step - loss: 358.7915 - mae: 358.7915 - val_loss: 356.7828 - val_mae: 356.7828\n",
      "Epoch 15/20\n",
      "478/478 [==============================] - 2s 4ms/step - loss: 360.0877 - mae: 360.0877 - val_loss: 353.8049 - val_mae: 353.8049\n",
      "Epoch 16/20\n",
      "478/478 [==============================] - 2s 4ms/step - loss: 358.9058 - mae: 358.9058 - val_loss: 375.9468 - val_mae: 375.9468\n",
      "Epoch 17/20\n",
      "478/478 [==============================] - 2s 4ms/step - loss: 358.4898 - mae: 358.4898 - val_loss: 357.6487 - val_mae: 357.6487\n",
      "Epoch 18/20\n",
      "478/478 [==============================] - 2s 4ms/step - loss: 358.3438 - mae: 358.3438 - val_loss: 350.5769 - val_mae: 350.5769\n",
      "Epoch 19/20\n",
      "478/478 [==============================] - 2s 4ms/step - loss: 357.9765 - mae: 357.9765 - val_loss: 356.0792 - val_mae: 356.0792\n",
      "Epoch 20/20\n",
      "478/478 [==============================] - 2s 3ms/step - loss: 356.3914 - mae: 356.3914 - val_loss: 355.2223 - val_mae: 355.2223\n",
      "----------------------------------------------------------------------------------------------------\n",
      "Epoch 1/20\n",
      "478/478 [==============================] - 2s 3ms/step - loss: 1182.6992 - mae: 1182.6992 - val_loss: 378.8193 - val_mae: 378.8193\n",
      "Epoch 2/20\n",
      "478/478 [==============================] - 2s 3ms/step - loss: 376.9544 - mae: 376.9544 - val_loss: 379.9782 - val_mae: 379.9782\n",
      "Epoch 3/20\n",
      "478/478 [==============================] - 2s 3ms/step - loss: 374.0290 - mae: 374.0290 - val_loss: 378.8600 - val_mae: 378.8600\n",
      "Epoch 4/20\n",
      "478/478 [==============================] - 2s 3ms/step - loss: 369.3376 - mae: 369.3376 - val_loss: 352.8199 - val_mae: 352.8199\n",
      "Epoch 5/20\n",
      "478/478 [==============================] - 2s 3ms/step - loss: 366.9114 - mae: 366.9114 - val_loss: 358.5946 - val_mae: 358.5946\n",
      "Epoch 6/20\n",
      "478/478 [==============================] - 2s 3ms/step - loss: 365.1445 - mae: 365.1445 - val_loss: 352.2955 - val_mae: 352.2955\n",
      "Epoch 7/20\n",
      "478/478 [==============================] - 2s 3ms/step - loss: 363.8958 - mae: 363.8958 - val_loss: 347.6501 - val_mae: 347.6501\n",
      "Epoch 8/20\n",
      "478/478 [==============================] - 2s 3ms/step - loss: 361.1966 - mae: 361.1966 - val_loss: 353.0310 - val_mae: 353.0310\n",
      "Epoch 9/20\n",
      "478/478 [==============================] - 2s 3ms/step - loss: 363.5720 - mae: 363.5720 - val_loss: 345.8903 - val_mae: 345.8903\n",
      "Epoch 10/20\n",
      "478/478 [==============================] - 2s 3ms/step - loss: 361.5609 - mae: 361.5609 - val_loss: 345.7165 - val_mae: 345.7165\n",
      "Epoch 11/20\n",
      "478/478 [==============================] - 2s 3ms/step - loss: 359.0933 - mae: 359.0933 - val_loss: 343.5018 - val_mae: 343.5018\n",
      "Epoch 12/20\n",
      "478/478 [==============================] - 2s 3ms/step - loss: 361.3793 - mae: 361.3793 - val_loss: 345.8412 - val_mae: 345.8412\n",
      "Epoch 13/20\n",
      "478/478 [==============================] - 2s 3ms/step - loss: 360.0363 - mae: 360.0363 - val_loss: 345.8797 - val_mae: 345.8797\n",
      "Epoch 14/20\n",
      "478/478 [==============================] - 2s 3ms/step - loss: 360.5871 - mae: 360.5871 - val_loss: 339.7288 - val_mae: 339.7288\n",
      "Epoch 15/20\n",
      "478/478 [==============================] - 2s 3ms/step - loss: 358.0639 - mae: 358.0639 - val_loss: 341.9193 - val_mae: 341.9193\n",
      "Epoch 16/20\n",
      "478/478 [==============================] - 2s 3ms/step - loss: 359.0691 - mae: 359.0691 - val_loss: 340.7844 - val_mae: 340.7844\n",
      "Epoch 17/20\n",
      "478/478 [==============================] - 2s 3ms/step - loss: 357.8504 - mae: 357.8504 - val_loss: 339.8705 - val_mae: 339.8705\n",
      "Epoch 18/20\n",
      "478/478 [==============================] - 2s 3ms/step - loss: 358.5196 - mae: 358.5196 - val_loss: 365.3648 - val_mae: 365.3648\n",
      "Epoch 19/20\n",
      "478/478 [==============================] - 2s 3ms/step - loss: 357.6107 - mae: 357.6107 - val_loss: 337.6958 - val_mae: 337.6958\n",
      "Epoch 20/20\n",
      "478/478 [==============================] - 2s 3ms/step - loss: 357.8304 - mae: 357.8304 - val_loss: 340.6803 - val_mae: 340.6803\n",
      "----------------------------------------------------------------------------------------------------\n"
     ]
    }
   ],
   "source": [
    "cv = KFold(n_splits=5, shuffle=True, random_state=0)\n",
    "\n",
    "for train_index, test_index in cv.split(X, y):\n",
    "    X_train, X_test = X.iloc[train_index], X.iloc[test_index]\n",
    "    y_train, y_test = y[train_index], y[test_index]\n",
    "    \n",
    "    model = Sequential()\n",
    "    model.add(Dense(units=416, activation='relu', input_dim=X.shape[1]))\n",
    "    model.add(Dense(units=512, activation='tanh'))\n",
    "    model.add(Dense(units=256, activation='relu'))\n",
    "    model.add(Dense(units=224, activation='relu'))\n",
    "    model.add(Dense(1))\n",
    "    model.compile(optimizer=Adam(learning_rate=.0006591520561523958), loss='mean_absolute_error', metrics=['mae'])\n",
    "    model.fit(X, y, epochs=20, batch_size=32, validation_data=(X_test, y_test))\n",
    "    print('-'*100)"
   ]
  },
  {
   "cell_type": "markdown",
   "id": "1f702449-5564-45ac-84d9-0b29bc60d9fd",
   "metadata": {},
   "source": [
    "# Prediction"
   ]
  },
  {
   "cell_type": "code",
   "execution_count": 28,
   "id": "c01c86df-6b2d-4629-ae29-2b29d915be5f",
   "metadata": {},
   "outputs": [
    {
     "name": "stdout",
     "output_type": "stream",
     "text": [
      "319/319 [==============================] - 0s 950us/step\n"
     ]
    }
   ],
   "source": [
    "# Use the trained model to predict on the test data\n",
    "y_pred = best_model.predict(test_transformed).flatten()"
   ]
  },
  {
   "cell_type": "markdown",
   "id": "6fd2a242-6a69-4782-89c2-21414ab81ffb",
   "metadata": {},
   "source": [
    "# Submission"
   ]
  },
  {
   "cell_type": "code",
   "execution_count": 29,
   "id": "c8dba0e2-030e-451c-8e95-e8c36a15c40b",
   "metadata": {},
   "outputs": [],
   "source": [
    "submission = pd.DataFrame(pd.concat([pd.Series(test_transformed.index, name='id'), pd.Series(y_pred, name='yield')], axis=1))"
   ]
  },
  {
   "cell_type": "code",
   "execution_count": 30,
   "id": "e2622350-362c-43e2-a14d-9192a057f170",
   "metadata": {},
   "outputs": [],
   "source": [
    "submission.to_csv('mlp_model.csv', index=False)"
   ]
  },
  {
   "cell_type": "code",
   "execution_count": null,
   "id": "bbc06217-665b-4ba7-9d09-8b1f2ab7c118",
   "metadata": {},
   "outputs": [],
   "source": []
  }
 ],
 "metadata": {
  "kernelspec": {
   "display_name": "Python 3 (ipykernel)",
   "language": "python",
   "name": "python3"
  },
  "language_info": {
   "codemirror_mode": {
    "name": "ipython",
    "version": 3
   },
   "file_extension": ".py",
   "mimetype": "text/x-python",
   "name": "python",
   "nbconvert_exporter": "python",
   "pygments_lexer": "ipython3",
   "version": "3.7.15"
  }
 },
 "nbformat": 4,
 "nbformat_minor": 5
}

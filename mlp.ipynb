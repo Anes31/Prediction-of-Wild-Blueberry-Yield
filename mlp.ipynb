{
 "cells": [
  {
   "cell_type": "code",
   "execution_count": 1,
   "id": "0df55475-5430-4b01-b106-87ae56d1d956",
   "metadata": {},
   "outputs": [],
   "source": [
    "import pandas as pd\n",
    "import numpy as np\n",
    "import matplotlib.pyplot as plt\n",
    "import seaborn as sns\n",
    "\n",
    "from sklearn.preprocessing import StandardScaler\n",
    "from sklearn.model_selection import KFold, cross_val_score, train_test_split\n",
    "from sklearn.metrics import mean_absolute_error\n",
    "\n",
    "from keras.models import Sequential\n",
    "from keras.layers import Dense\n",
    "from keras_tuner import RandomSearch\n",
    "from keras_tuner import Objective\n",
    "\n",
    "from tensorflow.keras.optimizers import Adam\n",
    "from tensorflow.keras.losses import mean_absolute_error, MAE\n",
    "from tensorflow.keras.regularizers import L2"
   ]
  },
  {
   "cell_type": "markdown",
   "id": "afff2d55-25c7-4e86-85f4-5c3e8b473464",
   "metadata": {},
   "source": [
    "# Data Loading"
   ]
  },
  {
   "cell_type": "code",
   "execution_count": 2,
   "id": "5a1285b8-7715-42ee-80e1-fbf2c6491098",
   "metadata": {},
   "outputs": [],
   "source": [
    "train = pd.read_csv('train.csv', index_col='id')\n",
    "test = pd.read_csv('test.csv', index_col='id')\n",
    "ss = pd.read_csv('sample_submission.csv')"
   ]
  },
  {
   "cell_type": "markdown",
   "id": "4595d424-8a80-4bee-b7cd-a5b5e3cbfc6e",
   "metadata": {},
   "source": [
    "# EDA"
   ]
  },
  {
   "cell_type": "markdown",
   "id": "1f700f28-64cb-4b0c-b715-071b6fb25d84",
   "metadata": {},
   "source": [
    "# Combine Train and Test Data"
   ]
  },
  {
   "cell_type": "code",
   "execution_count": 3,
   "id": "c0bed249-da0a-4fe5-8a75-bdec0b5380de",
   "metadata": {},
   "outputs": [],
   "source": [
    "train1 = train.drop('yield', axis=1).copy()"
   ]
  },
  {
   "cell_type": "code",
   "execution_count": 4,
   "id": "4b21655e-5962-43fa-b168-1a8d3dccf9dd",
   "metadata": {},
   "outputs": [],
   "source": [
    "train1 = pd.concat([train1, test])"
   ]
  },
  {
   "cell_type": "markdown",
   "id": "c2b70cd1-dab3-4a12-b372-bcf62f0b4d11",
   "metadata": {},
   "source": [
    "# Feature Engineering"
   ]
  },
  {
   "cell_type": "code",
   "execution_count": 5,
   "id": "78409368-1e72-436b-9bec-c295f54dc128",
   "metadata": {},
   "outputs": [],
   "source": [
    "train2 = train1.copy()"
   ]
  },
  {
   "cell_type": "code",
   "execution_count": 6,
   "id": "c872e258-95ba-4b12-9adb-0f75e810dbc7",
   "metadata": {},
   "outputs": [],
   "source": [
    "# Based on the correlation matrix, these parameters are highly correlated and have the same correlation with the target so it is safe to remove them\n",
    "train2 = train2.drop(['MinOfUpperTRange', 'AverageOfUpperTRange', 'MaxOfLowerTRange', 'MinOfLowerTRange', 'AverageOfLowerTRange', 'RainingDays'], axis=1)\n",
    "#, 'fruitmass', 'seeds'"
   ]
  },
  {
   "cell_type": "markdown",
   "id": "55a248c1-2c5f-42b1-a091-25a00ab92c1b",
   "metadata": {},
   "source": [
    "# Feature Scaling"
   ]
  },
  {
   "cell_type": "code",
   "execution_count": 7,
   "id": "1dd1462c-ddba-4997-8da7-0841447c46d6",
   "metadata": {},
   "outputs": [],
   "source": [
    "train3 = train2.copy()"
   ]
  },
  {
   "cell_type": "code",
   "execution_count": 8,
   "id": "7045537d-f266-4938-9f31-200ec55348ed",
   "metadata": {},
   "outputs": [],
   "source": [
    "sc = StandardScaler()\n",
    "train3 = pd.DataFrame(sc.fit_transform(train3), columns=train3.columns)"
   ]
  },
  {
   "cell_type": "markdown",
   "id": "d2aa72a5-6d0c-4565-80cd-34ff21640440",
   "metadata": {},
   "source": [
    "# Target Transformation"
   ]
  },
  {
   "cell_type": "code",
   "execution_count": 9,
   "id": "d5182b09-d9ab-4112-b9f0-dbeb8b0d5f95",
   "metadata": {},
   "outputs": [],
   "source": [
    "y = train['yield']"
   ]
  },
  {
   "cell_type": "markdown",
   "id": "90e0036d-85cc-44a8-abd4-e90f60c41f34",
   "metadata": {},
   "source": [
    "# Split Train and Test data, transform"
   ]
  },
  {
   "cell_type": "code",
   "execution_count": 10,
   "id": "4876d945-e83b-4ee1-a5e6-49f530db84c8",
   "metadata": {},
   "outputs": [],
   "source": [
    "X = train3.loc[:train.index.max(), :].copy()\n",
    "test_transformed = train3.iloc[train.index.max()+1:, :]"
   ]
  },
  {
   "cell_type": "markdown",
   "id": "1f4160de-1489-49dc-801e-513e977c27e5",
   "metadata": {},
   "source": [
    "# Define MLP model"
   ]
  },
  {
   "cell_type": "code",
   "execution_count": 11,
   "id": "9c169851-8a58-40ee-9a0e-4770aae88ce3",
   "metadata": {
    "collapsed": true,
    "jupyter": {
     "outputs_hidden": true
    },
    "tags": []
   },
   "outputs": [
    {
     "name": "stdout",
     "output_type": "stream",
     "text": [
      "Trial 100 Complete [00h 00m 09s]\n",
      "val_mae: 367.55694580078125\n",
      "\n",
      "Best val_mae So Far: 355.9516296386719\n",
      "Total elapsed time: 00h 24m 54s\n",
      "INFO:tensorflow:Oracle triggered exit\n"
     ]
    },
    {
     "ename": "NameError",
     "evalue": "name 'best_hyperparameters' is not defined",
     "output_type": "error",
     "traceback": [
      "\u001b[1;31m---------------------------------------------------------------------------\u001b[0m",
      "\u001b[1;31mNameError\u001b[0m                                 Traceback (most recent call last)",
      "\u001b[1;32m~\\AppData\\Local\\Temp\\ipykernel_5304\\3039353465.py\u001b[0m in \u001b[0;36m<module>\u001b[1;34m\u001b[0m\n\u001b[0;32m     31\u001b[0m \u001b[1;33m\u001b[0m\u001b[0m\n\u001b[0;32m     32\u001b[0m \u001b[1;31m# Get the best hyperparameters for this fold\u001b[0m\u001b[1;33m\u001b[0m\u001b[1;33m\u001b[0m\u001b[1;33m\u001b[0m\u001b[0m\n\u001b[1;32m---> 33\u001b[1;33m \u001b[0mbest_hyperparameters\u001b[0m\u001b[1;33m.\u001b[0m\u001b[0mappend\u001b[0m\u001b[1;33m(\u001b[0m\u001b[0mtuner\u001b[0m\u001b[1;33m.\u001b[0m\u001b[0mget_best_hyperparameters\u001b[0m\u001b[1;33m(\u001b[0m\u001b[0mnum_trials\u001b[0m\u001b[1;33m=\u001b[0m\u001b[1;36m1\u001b[0m\u001b[1;33m)\u001b[0m\u001b[1;33m[\u001b[0m\u001b[1;36m0\u001b[0m\u001b[1;33m]\u001b[0m\u001b[1;33m)\u001b[0m\u001b[1;33m\u001b[0m\u001b[1;33m\u001b[0m\u001b[0m\n\u001b[0m",
      "\u001b[1;31mNameError\u001b[0m: name 'best_hyperparameters' is not defined"
     ]
    }
   ],
   "source": [
    "# Define your build_model function\n",
    "def build_model(hp):\n",
    "    model = Sequential()\n",
    "    model.add(Dense(units=hp.Int('units_input', min_value=32, max_value=512, step=32), activation='relu', input_dim=X.shape[1]))\n",
    "    for i in range(hp.Int('num_hidden_layers', min_value=0, max_value=3)):\n",
    "        model.add(Dense(units=hp.Int(f'units_{i}', min_value=32, max_value=512, step=32), activation=hp.Choice(f'activation_{i}', values=['relu', 'sigmoid', 'tanh'])))\n",
    "    model.add(Dense(1))\n",
    "    \n",
    "    model.compile(optimizer=Adam(learning_rate=hp.Float('learning_rate', min_value=1e-4, max_value=1e-2, sampling=\"log\")),\n",
    "                  loss='mean_absolute_error', \n",
    "                  metrics=['mae'])\n",
    "    return model\n",
    "\n",
    "# Define an empty array to store ensemble predictions\n",
    "ensemble_predictions = np.zeros_like(y, dtype=float)\n",
    "\n",
    "X_train, X_test, y_train, y_test = train_test_split(X, y, test_size=0.2, random_state=0)\n",
    "\n",
    "tuner = RandomSearch(build_model, \n",
    "                     objective=Objective(\"val_mae\", direction=\"min\"),\n",
    "                     max_trials=100,\n",
    "                     executions_per_trial=1,\n",
    "                     directory=f'C:/Users/Anes3/Documents/keras_tuner_dir_fold',\n",
    "                     project_name=f'my_hyperparameter_search_fold'\n",
    "                    )\n",
    "\n",
    "tuner.search(X_train, y_train,\n",
    "             epochs=20,\n",
    "             batch_size=32,\n",
    "             validation_data=(X_test, y_test))"
   ]
  },
  {
   "cell_type": "code",
   "execution_count": 12,
   "id": "114088ac-e373-4b1b-9ce6-68b1fe1560bd",
   "metadata": {},
   "outputs": [],
   "source": [
    "best_hyperparameters = tuner.get_best_hyperparameters(num_trials=1)[0]"
   ]
  },
  {
   "cell_type": "markdown",
   "id": "3588ad82-9e93-44b4-9a38-77617e227f65",
   "metadata": {},
   "source": [
    "# Training"
   ]
  },
  {
   "cell_type": "code",
   "execution_count": 22,
   "id": "27d457a8-85be-4c0d-9e87-506f3a36ec69",
   "metadata": {},
   "outputs": [
    {
     "name": "stdout",
     "output_type": "stream",
     "text": [
      "Epoch 1/20\n",
      "478/478 [==============================] - 2s 2ms/step - loss: 2484.5210 - mae: 2484.5210 - val_loss: 464.0370 - val_mae: 464.0370\n",
      "Epoch 2/20\n",
      "478/478 [==============================] - 1s 2ms/step - loss: 399.9269 - mae: 399.9269 - val_loss: 377.5580 - val_mae: 377.5580\n",
      "Epoch 3/20\n",
      "478/478 [==============================] - 1s 2ms/step - loss: 372.1868 - mae: 372.1868 - val_loss: 377.6526 - val_mae: 377.6526\n",
      "Epoch 4/20\n",
      "478/478 [==============================] - 1s 2ms/step - loss: 365.1477 - mae: 365.1477 - val_loss: 359.1503 - val_mae: 359.1503\n",
      "Epoch 5/20\n",
      "478/478 [==============================] - 1s 2ms/step - loss: 363.2437 - mae: 363.2437 - val_loss: 353.5677 - val_mae: 353.5677\n",
      "Epoch 6/20\n",
      "478/478 [==============================] - 1s 2ms/step - loss: 359.7992 - mae: 359.7992 - val_loss: 355.1614 - val_mae: 355.1614\n",
      "Epoch 7/20\n",
      "478/478 [==============================] - 1s 2ms/step - loss: 357.9247 - mae: 357.9247 - val_loss: 360.7805 - val_mae: 360.7805\n",
      "Epoch 8/20\n",
      "478/478 [==============================] - 1s 2ms/step - loss: 357.1613 - mae: 357.1613 - val_loss: 351.4335 - val_mae: 351.4335\n",
      "Epoch 9/20\n",
      "478/478 [==============================] - 1s 2ms/step - loss: 355.7545 - mae: 355.7545 - val_loss: 350.8474 - val_mae: 350.8474\n",
      "Epoch 10/20\n",
      "478/478 [==============================] - 1s 2ms/step - loss: 355.8834 - mae: 355.8834 - val_loss: 361.2735 - val_mae: 361.2735\n",
      "Epoch 11/20\n",
      "478/478 [==============================] - 1s 2ms/step - loss: 353.4623 - mae: 353.4623 - val_loss: 350.2748 - val_mae: 350.2748\n",
      "Epoch 12/20\n",
      "478/478 [==============================] - 1s 2ms/step - loss: 353.2505 - mae: 353.2505 - val_loss: 349.3532 - val_mae: 349.3532\n",
      "Epoch 13/20\n",
      "478/478 [==============================] - 1s 2ms/step - loss: 353.7915 - mae: 353.7915 - val_loss: 350.6506 - val_mae: 350.6506\n",
      "Epoch 14/20\n",
      "478/478 [==============================] - 1s 2ms/step - loss: 351.3948 - mae: 351.3948 - val_loss: 343.5398 - val_mae: 343.5398\n",
      "Epoch 15/20\n",
      "478/478 [==============================] - 1s 2ms/step - loss: 351.4330 - mae: 351.4330 - val_loss: 350.8442 - val_mae: 350.8442\n",
      "Epoch 16/20\n",
      "478/478 [==============================] - 1s 2ms/step - loss: 350.4699 - mae: 350.4699 - val_loss: 344.4027 - val_mae: 344.4027\n",
      "Epoch 17/20\n",
      "478/478 [==============================] - 1s 2ms/step - loss: 350.8825 - mae: 350.8825 - val_loss: 341.2155 - val_mae: 341.2155\n",
      "Epoch 18/20\n",
      "478/478 [==============================] - 1s 2ms/step - loss: 348.7137 - mae: 348.7137 - val_loss: 347.4753 - val_mae: 347.4753\n",
      "Epoch 19/20\n",
      "478/478 [==============================] - 1s 2ms/step - loss: 347.8047 - mae: 347.8047 - val_loss: 344.8129 - val_mae: 344.8129\n",
      "Epoch 20/20\n",
      "478/478 [==============================] - 1s 2ms/step - loss: 347.5137 - mae: 347.5137 - val_loss: 341.0345 - val_mae: 341.0345\n"
     ]
    },
    {
     "data": {
      "text/plain": [
       "<keras.callbacks.History at 0x25ee8457ac8>"
      ]
     },
     "execution_count": 22,
     "metadata": {},
     "output_type": "execute_result"
    }
   ],
   "source": [
    "# Build and train the best model for this fold on the full dataset\n",
    "best_model = tuner.hypermodel.build(best_hyperparameters)\n",
    "best_model.fit(X, y, epochs=20, batch_size=32, validation_data=(X_test, y_test))"
   ]
  },
  {
   "cell_type": "markdown",
   "id": "1f702449-5564-45ac-84d9-0b29bc60d9fd",
   "metadata": {},
   "source": [
    "# Prediction"
   ]
  },
  {
   "cell_type": "code",
   "execution_count": 28,
   "id": "c01c86df-6b2d-4629-ae29-2b29d915be5f",
   "metadata": {},
   "outputs": [
    {
     "name": "stdout",
     "output_type": "stream",
     "text": [
      "319/319 [==============================] - 0s 950us/step\n"
     ]
    }
   ],
   "source": [
    "# Use the trained model to predict on the test data\n",
    "y_pred = best_model.predict(test_transformed).flatten()"
   ]
  },
  {
   "cell_type": "markdown",
   "id": "6fd2a242-6a69-4782-89c2-21414ab81ffb",
   "metadata": {},
   "source": [
    "# Submission"
   ]
  },
  {
   "cell_type": "code",
   "execution_count": 29,
   "id": "c8dba0e2-030e-451c-8e95-e8c36a15c40b",
   "metadata": {},
   "outputs": [],
   "source": [
    "submission = pd.DataFrame(pd.concat([pd.Series(test_transformed.index, name='id'), pd.Series(y_pred, name='yield')], axis=1))"
   ]
  },
  {
   "cell_type": "code",
   "execution_count": 30,
   "id": "e2622350-362c-43e2-a14d-9192a057f170",
   "metadata": {},
   "outputs": [],
   "source": [
    "submission.to_csv('mlp_model.csv', index=False)"
   ]
  },
  {
   "cell_type": "code",
   "execution_count": null,
   "id": "bbc06217-665b-4ba7-9d09-8b1f2ab7c118",
   "metadata": {},
   "outputs": [],
   "source": []
  }
 ],
 "metadata": {
  "kernelspec": {
   "display_name": "Python 3 (ipykernel)",
   "language": "python",
   "name": "python3"
  },
  "language_info": {
   "codemirror_mode": {
    "name": "ipython",
    "version": 3
   },
   "file_extension": ".py",
   "mimetype": "text/x-python",
   "name": "python",
   "nbconvert_exporter": "python",
   "pygments_lexer": "ipython3",
   "version": "3.7.15"
  }
 },
 "nbformat": 4,
 "nbformat_minor": 5
}

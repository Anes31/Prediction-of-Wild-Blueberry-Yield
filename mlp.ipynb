{
 "cells": [
  {
   "cell_type": "code",
   "execution_count": 1,
   "id": "0df55475-5430-4b01-b106-87ae56d1d956",
   "metadata": {},
   "outputs": [],
   "source": [
    "import pandas as pd\n",
    "import numpy as np\n",
    "import matplotlib.pyplot as plt\n",
    "import seaborn as sns\n",
    "\n",
    "from sklearn.preprocessing import StandardScaler\n",
    "from sklearn.model_selection import KFold, cross_val_score, train_test_split\n",
    "from sklearn.metrics import mean_absolute_error\n",
    "\n",
    "from keras.models import Sequential\n",
    "from keras.layers import Dense\n",
    "from keras_tuner import RandomSearch\n",
    "from keras_tuner import Objective\n",
    "\n",
    "from tensorflow.keras.optimizers import Adam\n",
    "from tensorflow.keras.losses import mean_absolute_error, MAE\n",
    "from tensorflow.keras.regularizers import L2"
   ]
  },
  {
   "cell_type": "markdown",
   "id": "afff2d55-25c7-4e86-85f4-5c3e8b473464",
   "metadata": {},
   "source": [
    "# Data Loading"
   ]
  },
  {
   "cell_type": "code",
   "execution_count": 2,
   "id": "5a1285b8-7715-42ee-80e1-fbf2c6491098",
   "metadata": {},
   "outputs": [],
   "source": [
    "train = pd.read_csv('train.csv', index_col='id')\n",
    "test = pd.read_csv('test.csv', index_col='id')\n",
    "ss = pd.read_csv('sample_submission.csv')"
   ]
  },
  {
   "cell_type": "markdown",
   "id": "4595d424-8a80-4bee-b7cd-a5b5e3cbfc6e",
   "metadata": {},
   "source": [
    "# EDA"
   ]
  },
  {
   "cell_type": "markdown",
   "id": "1f700f28-64cb-4b0c-b715-071b6fb25d84",
   "metadata": {},
   "source": [
    "# Combine Train and Test Data"
   ]
  },
  {
   "cell_type": "code",
   "execution_count": 3,
   "id": "c0bed249-da0a-4fe5-8a75-bdec0b5380de",
   "metadata": {},
   "outputs": [],
   "source": [
    "train1 = train.drop('yield', axis=1).copy()"
   ]
  },
  {
   "cell_type": "code",
   "execution_count": 4,
   "id": "4b21655e-5962-43fa-b168-1a8d3dccf9dd",
   "metadata": {},
   "outputs": [],
   "source": [
    "train1 = pd.concat([train1, test])"
   ]
  },
  {
   "cell_type": "markdown",
   "id": "c2b70cd1-dab3-4a12-b372-bcf62f0b4d11",
   "metadata": {},
   "source": [
    "# Feature Engineering"
   ]
  },
  {
   "cell_type": "code",
   "execution_count": 5,
   "id": "78409368-1e72-436b-9bec-c295f54dc128",
   "metadata": {},
   "outputs": [],
   "source": [
    "train2 = train1.copy()"
   ]
  },
  {
   "cell_type": "code",
   "execution_count": 6,
   "id": "c872e258-95ba-4b12-9adb-0f75e810dbc7",
   "metadata": {},
   "outputs": [],
   "source": [
    "# Based on the correlation matrix, these parameters are highly correlated and have the same correlation with the target so it is safe to remove them\n",
    "train2 = train2.drop(['MinOfUpperTRange', 'AverageOfUpperTRange', 'MaxOfLowerTRange', 'MinOfLowerTRange', 'AverageOfLowerTRange', 'RainingDays'], axis=1)\n",
    "#, 'fruitmass', 'seeds'"
   ]
  },
  {
   "cell_type": "markdown",
   "id": "55a248c1-2c5f-42b1-a091-25a00ab92c1b",
   "metadata": {},
   "source": [
    "# Feature Scaling"
   ]
  },
  {
   "cell_type": "code",
   "execution_count": 7,
   "id": "1dd1462c-ddba-4997-8da7-0841447c46d6",
   "metadata": {},
   "outputs": [],
   "source": [
    "train3 = train2.copy()"
   ]
  },
  {
   "cell_type": "code",
   "execution_count": 8,
   "id": "7045537d-f266-4938-9f31-200ec55348ed",
   "metadata": {},
   "outputs": [],
   "source": [
    "sc = StandardScaler()\n",
    "train3 = pd.DataFrame(sc.fit_transform(train3), columns=train3.columns)"
   ]
  },
  {
   "cell_type": "markdown",
   "id": "d2aa72a5-6d0c-4565-80cd-34ff21640440",
   "metadata": {},
   "source": [
    "# Target Transformation"
   ]
  },
  {
   "cell_type": "code",
   "execution_count": 9,
   "id": "d5182b09-d9ab-4112-b9f0-dbeb8b0d5f95",
   "metadata": {},
   "outputs": [],
   "source": [
    "y = train['yield']"
   ]
  },
  {
   "cell_type": "markdown",
   "id": "90e0036d-85cc-44a8-abd4-e90f60c41f34",
   "metadata": {},
   "source": [
    "# Split Train and Test data, transform"
   ]
  },
  {
   "cell_type": "code",
   "execution_count": 10,
   "id": "4876d945-e83b-4ee1-a5e6-49f530db84c8",
   "metadata": {},
   "outputs": [],
   "source": [
    "X = train3.loc[:train.index.max(), :].copy()\n",
    "test_transformed = train3.iloc[train.index.max()+1:, :]"
   ]
  },
  {
   "cell_type": "markdown",
   "id": "1f4160de-1489-49dc-801e-513e977c27e5",
   "metadata": {},
   "source": [
    "# Define MLP model"
   ]
  },
  {
   "cell_type": "code",
   "execution_count": 11,
   "id": "9c169851-8a58-40ee-9a0e-4770aae88ce3",
   "metadata": {
    "tags": []
   },
   "outputs": [
    {
     "name": "stdout",
     "output_type": "stream",
     "text": [
      "Trial 100 Complete [00h 00m 09s]\n",
      "val_mae: 364.314697265625\n",
      "\n",
      "Best val_mae So Far: 355.8360900878906\n",
      "Total elapsed time: 00h 24m 02s\n",
      "INFO:tensorflow:Oracle triggered exit\n"
     ]
    }
   ],
   "source": [
    "# Define your build_model function\n",
    "def build_model(hp):\n",
    "    model = Sequential()\n",
    "    model.add(Dense(units=hp.Int('units_input', min_value=32, max_value=512, step=32), activation='relu', input_dim=X.shape[1]))\n",
    "    for i in range(hp.Int('num_hidden_layers', min_value=0, max_value=3)):\n",
    "        model.add(Dense(units=hp.Int(f'units_{i}', min_value=32, max_value=512, step=32), activation=hp.Choice(f'activation_{i}', values=['relu', 'sigmoid', 'tanh'])))\n",
    "    model.add(Dense(1))\n",
    "    \n",
    "    model.compile(optimizer=Adam(learning_rate=hp.Float('learning_rate', min_value=1e-4, max_value=1e-2, sampling=\"log\")),\n",
    "                  loss='mean_absolute_error', \n",
    "                  metrics=['mae'])\n",
    "    return model\n",
    "\n",
    "# Define an empty array to store ensemble predictions\n",
    "ensemble_predictions = np.zeros_like(y, dtype=float)\n",
    "\n",
    "X_train, X_test, y_train, y_test = train_test_split(X, y, test_size=0.2, random_state=0)\n",
    "\n",
    "tuner = RandomSearch(build_model, \n",
    "                     objective=Objective(\"val_mae\", direction=\"min\"),\n",
    "                     max_trials=100,\n",
    "                     executions_per_trial=1,\n",
    "                     directory=f'C:/Users/Anes3/Documents/keras_tuner_dir_fold',\n",
    "                     project_name=f'my_hyperparameter_search_fold'\n",
    "                    )\n",
    "\n",
    "tuner.search(X_train, y_train,\n",
    "             epochs=20,\n",
    "             batch_size=32,\n",
    "             validation_data=(X_test, y_test))"
   ]
  },
  {
   "cell_type": "code",
   "execution_count": 12,
   "id": "114088ac-e373-4b1b-9ce6-68b1fe1560bd",
   "metadata": {},
   "outputs": [],
   "source": [
    "best_hyperparameters = tuner.get_best_hyperparameters(num_trials=1)[0]"
   ]
  },
  {
   "cell_type": "markdown",
   "id": "3588ad82-9e93-44b4-9a38-77617e227f65",
   "metadata": {},
   "source": [
    "# Training"
   ]
  },
  {
   "cell_type": "code",
   "execution_count": 13,
   "id": "27d457a8-85be-4c0d-9e87-506f3a36ec69",
   "metadata": {},
   "outputs": [
    {
     "name": "stdout",
     "output_type": "stream",
     "text": [
      "Epoch 1/20\n",
      "478/478 [==============================] - 2s 3ms/step - loss: 2794.8599 - mae: 2794.8599 - val_loss: 695.4681 - val_mae: 695.4681\n",
      "Epoch 2/20\n",
      "478/478 [==============================] - 1s 3ms/step - loss: 424.3797 - mae: 424.3797 - val_loss: 377.4329 - val_mae: 377.4329\n",
      "Epoch 3/20\n",
      "478/478 [==============================] - 1s 3ms/step - loss: 371.7687 - mae: 371.7687 - val_loss: 362.1238 - val_mae: 362.1238\n",
      "Epoch 4/20\n",
      "478/478 [==============================] - 1s 3ms/step - loss: 366.3706 - mae: 366.3706 - val_loss: 359.6622 - val_mae: 359.6622\n",
      "Epoch 5/20\n",
      "478/478 [==============================] - 1s 3ms/step - loss: 362.5175 - mae: 362.5175 - val_loss: 361.8174 - val_mae: 361.8174\n",
      "Epoch 6/20\n",
      "478/478 [==============================] - 1s 3ms/step - loss: 361.6731 - mae: 361.6731 - val_loss: 359.9056 - val_mae: 359.9056\n",
      "Epoch 7/20\n",
      "478/478 [==============================] - 1s 3ms/step - loss: 359.1562 - mae: 359.1562 - val_loss: 374.6786 - val_mae: 374.6786\n",
      "Epoch 8/20\n",
      "478/478 [==============================] - 1s 3ms/step - loss: 358.2103 - mae: 358.2103 - val_loss: 358.3413 - val_mae: 358.3413\n",
      "Epoch 9/20\n",
      "478/478 [==============================] - 1s 3ms/step - loss: 357.1444 - mae: 357.1444 - val_loss: 348.7417 - val_mae: 348.7417\n",
      "Epoch 10/20\n",
      "478/478 [==============================] - 1s 3ms/step - loss: 356.4009 - mae: 356.4009 - val_loss: 357.5834 - val_mae: 357.5834\n",
      "Epoch 11/20\n",
      "478/478 [==============================] - 1s 3ms/step - loss: 356.5194 - mae: 356.5194 - val_loss: 355.1316 - val_mae: 355.1316\n",
      "Epoch 12/20\n",
      "478/478 [==============================] - 1s 3ms/step - loss: 354.8706 - mae: 354.8706 - val_loss: 355.0389 - val_mae: 355.0389\n",
      "Epoch 13/20\n",
      "478/478 [==============================] - 1s 3ms/step - loss: 354.9820 - mae: 354.9820 - val_loss: 352.7893 - val_mae: 352.7893\n",
      "Epoch 14/20\n",
      "478/478 [==============================] - 1s 3ms/step - loss: 354.1467 - mae: 354.1467 - val_loss: 347.5557 - val_mae: 347.5557\n",
      "Epoch 15/20\n",
      "478/478 [==============================] - 1s 3ms/step - loss: 353.4444 - mae: 353.4444 - val_loss: 350.8794 - val_mae: 350.8794\n",
      "Epoch 16/20\n",
      "478/478 [==============================] - 1s 3ms/step - loss: 353.0598 - mae: 353.0598 - val_loss: 347.7224 - val_mae: 347.7224\n",
      "Epoch 17/20\n",
      "478/478 [==============================] - 1s 3ms/step - loss: 353.4394 - mae: 353.4394 - val_loss: 348.2080 - val_mae: 348.2080\n",
      "Epoch 18/20\n",
      "478/478 [==============================] - 1s 3ms/step - loss: 351.5325 - mae: 351.5325 - val_loss: 345.9369 - val_mae: 345.9369\n",
      "Epoch 19/20\n",
      "478/478 [==============================] - 1s 3ms/step - loss: 351.6862 - mae: 351.6862 - val_loss: 346.0456 - val_mae: 346.0456\n",
      "Epoch 20/20\n",
      "478/478 [==============================] - 1s 3ms/step - loss: 351.3569 - mae: 351.3569 - val_loss: 345.5883 - val_mae: 345.5883\n"
     ]
    },
    {
     "data": {
      "text/plain": [
       "<keras.callbacks.History at 0x13af2f6c448>"
      ]
     },
     "execution_count": 13,
     "metadata": {},
     "output_type": "execute_result"
    }
   ],
   "source": [
    "# Build and train the best model for this fold on the full dataset\n",
    "best_model = tuner.hypermodel.build(best_hyperparameters)\n",
    "best_model.fit(X, y, epochs=20, batch_size=32, validation_data=(X_test, y_test))"
   ]
  },
  {
   "cell_type": "code",
   "execution_count": 14,
   "id": "066cca6a-0239-4eab-b495-b268cba2ded2",
   "metadata": {},
   "outputs": [
    {
     "data": {
      "text/plain": [
       "{'units_input': 416,\n",
       " 'num_hidden_layers': 2,\n",
       " 'learning_rate': 0.0006591520561523958,\n",
       " 'units_0': 512,\n",
       " 'activation_0': 'tanh',\n",
       " 'units_1': 256,\n",
       " 'activation_1': 'relu',\n",
       " 'units_2': 224,\n",
       " 'activation_2': 'relu'}"
      ]
     },
     "execution_count": 14,
     "metadata": {},
     "output_type": "execute_result"
    }
   ],
   "source": [
    "best_hyperparameters.values"
   ]
  },
  {
   "cell_type": "markdown",
   "id": "1f702449-5564-45ac-84d9-0b29bc60d9fd",
   "metadata": {},
   "source": [
    "# Prediction"
   ]
  },
  {
   "cell_type": "code",
   "execution_count": 28,
   "id": "c01c86df-6b2d-4629-ae29-2b29d915be5f",
   "metadata": {},
   "outputs": [
    {
     "name": "stdout",
     "output_type": "stream",
     "text": [
      "319/319 [==============================] - 0s 950us/step\n"
     ]
    }
   ],
   "source": [
    "# Use the trained model to predict on the test data\n",
    "y_pred = best_model.predict(test_transformed).flatten()"
   ]
  },
  {
   "cell_type": "markdown",
   "id": "6fd2a242-6a69-4782-89c2-21414ab81ffb",
   "metadata": {},
   "source": [
    "# Submission"
   ]
  },
  {
   "cell_type": "code",
   "execution_count": 29,
   "id": "c8dba0e2-030e-451c-8e95-e8c36a15c40b",
   "metadata": {},
   "outputs": [],
   "source": [
    "submission = pd.DataFrame(pd.concat([pd.Series(test_transformed.index, name='id'), pd.Series(y_pred, name='yield')], axis=1))"
   ]
  },
  {
   "cell_type": "code",
   "execution_count": 30,
   "id": "e2622350-362c-43e2-a14d-9192a057f170",
   "metadata": {},
   "outputs": [],
   "source": [
    "submission.to_csv('mlp_model.csv', index=False)"
   ]
  },
  {
   "cell_type": "code",
   "execution_count": null,
   "id": "bbc06217-665b-4ba7-9d09-8b1f2ab7c118",
   "metadata": {},
   "outputs": [],
   "source": []
  }
 ],
 "metadata": {
  "kernelspec": {
   "display_name": "Python 3 (ipykernel)",
   "language": "python",
   "name": "python3"
  },
  "language_info": {
   "codemirror_mode": {
    "name": "ipython",
    "version": 3
   },
   "file_extension": ".py",
   "mimetype": "text/x-python",
   "name": "python",
   "nbconvert_exporter": "python",
   "pygments_lexer": "ipython3",
   "version": "3.7.15"
  }
 },
 "nbformat": 4,
 "nbformat_minor": 5
}
